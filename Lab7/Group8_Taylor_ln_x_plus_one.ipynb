{
  "nbformat": 4,
  "nbformat_minor": 0,
  "metadata": {
    "colab": {
      "name": "Group8_Taylor_ln_x_plus_one.ipynb",
      "provenance": [],
      "collapsed_sections": [
        "ZuGY2wUTjFDm",
        "qylNUuxmQUzq",
        "EQulygu91CbA",
        "ZlcF8gIdjZ6t",
        "fc0gbEw-iTQ8",
        "9s4Rl_EojtvV",
        "PBe8gYqRwB-Z",
        "TxhZ8nnZpvbt",
        "y1fLchcRq-mT"
      ],
      "include_colab_link": true
    },
    "kernelspec": {
      "name": "python3",
      "display_name": "Python 3"
    },
    "language_info": {
      "name": "python"
    }
  },
  "cells": [
    {
      "cell_type": "markdown",
      "metadata": {
        "id": "view-in-github",
        "colab_type": "text"
      },
      "source": [
        "<a href=\"https://colab.research.google.com/github/javgonzalezvi/MetNumUN2022I/blob/master/Lab7/Group8_Taylor_ln_x_plus_one.ipynb\" target=\"_parent\"><img src=\"https://colab.research.google.com/assets/colab-badge.svg\" alt=\"Open In Colab\"/></a>"
      ]
    },
    {
      "cell_type": "markdown",
      "source": [
        "# Taylor series of $ln(1+x)$\n",
        "\n",
        "$$ \n",
        "\\begin{array}{lll}\n",
        "ln{(1+x)}  & =  & \\sum_{i=0}^{\\infty}\\ {(-1)}^{i-1} \\frac{x^i}{i} \\\\\n",
        "        & = & x - \\frac{x^2}{2} + \\frac{x^3}{3} - \\cdots + \\ {(-1)}^{n-1}\\frac{x^n}{n} + \\cdots  \\\\\n",
        "       & = &  x - \\frac{x^2}{2} +  \\frac{x^3}{3}-  \\cdots+ \\frac{x^n}{n} + O(x^{n}) \n",
        "\\end{array} \n",
        "$$\n",
        "\n",
        "\n",
        "Approximation \n",
        "$$ ln{(1 + x)}  \\approx  x - \\frac{x^2}{2} +  \\frac{x^3}{3}-  \\cdots+ \\frac{x^n}{n}$$\n"
      ],
      "metadata": {
        "id": "dUaraJBy9_gk"
      }
    },
    {
      "cell_type": "markdown",
      "source": [
        "# Interact Taylor Series of $$f(x) = ln(x+1)$$"
      ],
      "metadata": {
        "id": "0XffCDIuqZ9f"
      }
    },
    {
      "cell_type": "markdown",
      "source": [
        "```python\n",
        "# Interact Taylor Series of $$f(x) = ln(x+1)$$\n",
        "# Explanatory example: Taylor Series – wiki.sagemath.org/interact https://wiki.sagemath.org/interact\n",
        "x   = SR.var('x')\n",
        "x0  = 0\n",
        "f   = ln(x+1)\n",
        "p   = plot(f, -20, 20, thickness=2)\n",
        "dot = point((x0, f(x=x0)), pointsize=80, rgbcolor=(1, 0, 0))\n",
        "\n",
        "@interact\n",
        "def _(order=slider([0 .. 12])):\n",
        "  ft = f.taylor(x, x0, order)\n",
        "  pt = plot(ft, -20, 20, color='green', thickness=2)\n",
        "  pretty_print(html(r'$f(x)\\;=\\;%s$' % latex(f)))\n",
        "  pretty_print(html(r'$\\hat{f}(x;%s)\\;=\\;%s+\\mathcal{O}(x^{%s})$' % (x0, latex(ft), order+1)))\n",
        "  show(dot + p + pt, ymin=-1, ymax=10)\n",
        "```"
      ],
      "metadata": {
        "id": "NGbRNsR5wqVY"
      }
    },
    {
      "cell_type": "markdown",
      "source": [
        "#What is value of the partial Taylor series of $ln(x+1)$ up to the  $10$-th term"
      ],
      "metadata": {
        "id": "f_buGqxFxF35"
      }
    },
    {
      "cell_type": "code",
      "source": [
        "import math\n",
        "\n",
        "n = 10\n",
        "x = 1/2\n",
        "ln_x_1 = 0\n",
        "\n",
        "for i in range(n):\n",
        "    i = i+1\n",
        "\n",
        "    ln_x_1 += (int(math.pow(-1,i-1)))*((x**i)/i)\n",
        "    print(i, 'ln(x+1) ≈ ∑_{i=1}^'+str(i),'x^i/i =',ln_x_1,'\\n')  \n",
        "    \n",
        "print('math.log(',x,'+ 1) = ',math.log(x+1))"
      ],
      "metadata": {
        "colab": {
          "base_uri": "https://localhost:8080/"
        },
        "id": "Z93zGgzuwp_Z",
        "outputId": "7e990231-5e67-4dad-bced-ea4eb7f65394"
      },
      "execution_count": 35,
      "outputs": [
        {
          "output_type": "stream",
          "name": "stdout",
          "text": [
            "1 ln(x+1) ≈ ∑_{i=1}^1 x^i/i = 0.5 \n",
            "\n",
            "2 ln(x+1) ≈ ∑_{i=1}^2 x^i/i = 0.375 \n",
            "\n",
            "3 ln(x+1) ≈ ∑_{i=1}^3 x^i/i = 0.4166666666666667 \n",
            "\n",
            "4 ln(x+1) ≈ ∑_{i=1}^4 x^i/i = 0.4010416666666667 \n",
            "\n",
            "5 ln(x+1) ≈ ∑_{i=1}^5 x^i/i = 0.40729166666666666 \n",
            "\n",
            "6 ln(x+1) ≈ ∑_{i=1}^6 x^i/i = 0.4046875 \n",
            "\n",
            "7 ln(x+1) ≈ ∑_{i=1}^7 x^i/i = 0.40580357142857143 \n",
            "\n",
            "8 ln(x+1) ≈ ∑_{i=1}^8 x^i/i = 0.40531529017857143 \n",
            "\n",
            "9 ln(x+1) ≈ ∑_{i=1}^9 x^i/i = 0.4055323040674603 \n",
            "\n",
            "10 ln(x+1) ≈ ∑_{i=1}^10 x^i/i = 0.4054346478174603 \n",
            "\n",
            "math.log( 0.5 + 1) =  0.4054651081081644\n"
          ]
        }
      ]
    },
    {
      "cell_type": "markdown",
      "source": [
        "# What is the minimun $n$ for which the error between the Taylor series for $ln(x+1)$\n",
        "\n",
        "$$\\min_{n \\in \\mathbb{N}}\\left|\\sum_{i=1}^{n} {(-1)}^{i-1}\\frac{x^i}{i} - math.log(x+1) \\right| < \\epsilon$$"
      ],
      "metadata": {
        "id": "mpFoauaF_ujw"
      }
    },
    {
      "cell_type": "code",
      "source": [
        "import math\n",
        "\n",
        "x = 1/2\n",
        "epsilon = 10**(-5)\n",
        "\n",
        "ln_x_1 = 0\n",
        "\n",
        "print(\"n\".rjust(10),\" \",\"∑_{i=1}^n (-1)^(i-1)x^i/i\".center(21),\" \",\"delta =x^i/i \".center(21),\" \",\"error\".center(14),\" \",\"epsilon\".center(20))\n",
        "error = 1\n",
        "i = 1\n",
        "\n",
        "while  epsilon <= error:\n",
        "  delta =  math.pow(-1,i-1)*((x**i)/i)\n",
        "  ln_x_1 += delta\n",
        "  error = abs(math.log(x+1) - ln_x_1)\n",
        "  print(format(i, '10'),\"  \", format(ln_x_1, '.18f'),\"  \",format(delta, '.17f'),\" \",format(error, '.17f'),\"  \",\"{:.0e}\".format(epsilon)) \n",
        "  i = i+1\n",
        "\n",
        "\n",
        "print(\"n =\",i-1) \n",
        "print(\"x =\",x) \n",
        "print('ln_x_1 ≈ ∑_{i=1}^'+str(i-1),' ((-1)^(i-1)) x^i/i =',ln_x_1)  \n",
        "print(\"epsilon =\",\"{:.0e}\".format(epsilon)) \n",
        "print('math.log(x+1) = ',math.log(x+1))"
      ],
      "metadata": {
        "colab": {
          "base_uri": "https://localhost:8080/"
        },
        "id": "JFMeXUC-_vgW",
        "outputId": "ef67a963-cb6f-40b8-ee34-69e949183898"
      },
      "execution_count": 41,
      "outputs": [
        {
          "output_type": "stream",
          "name": "stdout",
          "text": [
            "         n   ∑_{i=1}^n (-1)^(i-1)x^i/i       delta =x^i/i            error              epsilon       \n",
            "         1    0.500000000000000000    0.50000000000000000   0.09453489189183562    1e-05\n",
            "         2    0.375000000000000000    -0.12500000000000000   0.03046510810816438    1e-05\n",
            "         3    0.416666666666666685    0.04166666666666666   0.01120155855850230    1e-05\n",
            "         4    0.401041666666666685    -0.01562500000000000   0.00442344144149770    1e-05\n",
            "         5    0.407291666666666663    0.00625000000000000   0.00182655855850228    1e-05\n",
            "         6    0.404687499999999978    -0.00260416666666667   0.00077760810816441    1e-05\n",
            "         7    0.405803571428571430    0.00111607142857143   0.00033846332040705    1e-05\n",
            "         8    0.405315290178571430    -0.00048828125000000   0.00014981792959295    1e-05\n",
            "         9    0.405532304067460325    0.00021701388888889   0.00006719595929594    1e-05\n",
            "        10    0.405434647817460303    -0.00009765625000000   0.00003046029070408    1e-05\n",
            "        11    0.405479037022005773    0.00004438920454545   0.00001392891384139    1e-05\n",
            "        12    0.405458691969922458    -0.00002034505208333   0.00000641613824193    1e-05\n",
            "n = 12\n",
            "x = 0.5\n",
            "ln_x_1 ≈ ∑_{i=1}^12  ((-1)}^{i-1) x^i/i = 0.40545869196992246\n",
            "epsilon = 1e-05\n",
            "math.log(x+1) =  0.4054651081081644\n"
          ]
        }
      ]
    },
    {
      "cell_type": "markdown",
      "source": [
        "# What is the minimun $n$ for which the $n$-th term of the Taylor series for $ln(x+1)$ \n",
        "\n",
        "$$\\min_{n \\in \\mathbb{N}}\\left| {(-1)}^{i-1}\\ \\frac{x^{n}}{n}\\right| < \\epsilon$$"
      ],
      "metadata": {
        "id": "7KGyn-P8K0Fp"
      }
    },
    {
      "cell_type": "code",
      "source": [
        "import math\n",
        "\n",
        "x = 1/2\n",
        "epsilon = 10**(-5)\n",
        "\n",
        "ln_x_1 = 0\n",
        "\n",
        "delta = 1\n",
        "i = 1\n",
        "\n",
        "print(\"n\".rjust(10),\" \",\"∑_{i=0}^n ((-1)^(i-1)) x^i/i\".center(20),\" \",\" delta=x^n/n\".center(20),\" \",\"epsilon\".center(9))\n",
        "\n",
        "while  epsilon <= abs(delta):\n",
        "  delta = math.pow(-1,i-1)*(x**i/i) \n",
        "  ln_x_1 += delta\n",
        "  print(format(i, '10'),\"  \", format(ln_x_1, '.17f'),\"  \",format(delta, '.17f'),\"  \",\"{:.0e}\".format(epsilon)) \n",
        "  i = i+1\n",
        "\n",
        "print(\"n = \",i-1) \n",
        "print('x = ',x)\n",
        "print('ln_x_1 ≈ ∑_{i=0}^'+str(i-1),'((-1)^(i-1)) x^i/i =',ln_x_1)\n",
        "print(\"epsilon =\",\"{:.0e}\".format(epsilon))     \n",
        "print('math.log(x+1) = ',math.log(x+1))"
      ],
      "metadata": {
        "colab": {
          "base_uri": "https://localhost:8080/"
        },
        "id": "_lMYsfG0JioR",
        "outputId": "d7c82217-4a4b-4783-e253-1ce1e8924ecb"
      },
      "execution_count": 49,
      "outputs": [
        {
          "output_type": "stream",
          "name": "stdout",
          "text": [
            "         n   ∑_{i=0}^n ((-1)^(i-1)) x^i/i        delta=x^n/n        epsilon \n",
            "         1    0.50000000000000000    0.50000000000000000    1e-05\n",
            "         2    0.37500000000000000    -0.12500000000000000    1e-05\n",
            "         3    0.41666666666666669    0.04166666666666666    1e-05\n",
            "         4    0.40104166666666669    -0.01562500000000000    1e-05\n",
            "         5    0.40729166666666666    0.00625000000000000    1e-05\n",
            "         6    0.40468749999999998    -0.00260416666666667    1e-05\n",
            "         7    0.40580357142857143    0.00111607142857143    1e-05\n",
            "         8    0.40531529017857143    -0.00048828125000000    1e-05\n",
            "         9    0.40553230406746033    0.00021701388888889    1e-05\n",
            "        10    0.40543464781746030    -0.00009765625000000    1e-05\n",
            "        11    0.40547903702200577    0.00004438920454545    1e-05\n",
            "        12    0.40545869196992246    -0.00002034505208333    1e-05\n",
            "        13    0.40546808199396089    0.00000939002403846    1e-05\n",
            "n =  13\n",
            "x =  0.5\n",
            "ln_x_1 ≈ ∑_{i=0}^13 ((-1)^(i-1)) x^i/i = 0.4054680819939609\n",
            "epsilon = 1e-05\n",
            "math.log(x+1) =  0.4054651081081644\n"
          ]
        }
      ]
    },
    {
      "cell_type": "markdown",
      "source": [
        "# **Error using the Lagrange's formula of the Residual $E_n$**"
      ],
      "metadata": {
        "id": "QyzuRF4_Pqux"
      }
    },
    {
      "cell_type": "code",
      "source": [
        "import math\n",
        "\n",
        "x = 1/2\n",
        "epsilon = 10**(-12)\n",
        "ln_x_1 = 0\n",
        "i = 1\n",
        "\n",
        "error = x**(i+1) / (((i+1)*(x+1))**(i+1))\n",
        "\n",
        "print(\"n\".rjust(10),\" \",\"∑_{i=1}^n  x^i/i\".center(21),\" \",\"error=ln(x+1) x^(n+1)/(n+1)!\".center(20),\" \",\"epsilon\".center(20))\n",
        "print(format(i, '10'),\"  \", format(ln_x_1, '.17f'),\"  \",format(error, '.17f'),\"  \",format(epsilon, '.17f'))\n",
        "\n",
        "while  epsilon <= abs(error):\n",
        "  ln_x_1 +=  (math.pow(-1,(i-1)))*((x**i)/i)\n",
        "  error = x**(i+1) / ((i+1)*(x+1)**(i+1))\n",
        "  \n",
        "  print(format(i, '10'),\"  \", format(ln_x_1, '.17f'),\"  \",format(error, '.17f'),\"  \",format(epsilon, '.17f')) \n",
        "  i = i+1\n",
        "\n",
        "print(\"n = \",i-1) \n",
        "print('x = ',x)\n",
        "print('ln_of_x_1 ≈ ∑_{i=1}^'+str(i-1),'[(-1)^(i-1)][(x^i/i)] =',ln_x_1)    \n",
        "print('math.log(x+1) = ',math.log(x+1))"
      ],
      "metadata": {
        "colab": {
          "base_uri": "https://localhost:8080/"
        },
        "id": "6ZOa4QiIPq8Z",
        "outputId": "e127d192-4c14-4c25-9c9d-80b0771f73a3"
      },
      "execution_count": 53,
      "outputs": [
        {
          "output_type": "stream",
          "name": "stdout",
          "text": [
            "         n      ∑_{i=1}^n  x^i/i     error=ln(x+1) x^(n+1)/(n+1)!         epsilon       \n",
            "         1    0.00000000000000000    0.02777777777777778    0.00000000000100000\n",
            "         1    0.50000000000000000    0.05555555555555555    0.00000000000100000\n",
            "         2    0.37500000000000000    0.01234567901234568    0.00000000000100000\n",
            "         3    0.41666666666666669    0.00308641975308642    0.00000000000100000\n",
            "         4    0.40104166666666669    0.00082304526748971    0.00000000000100000\n",
            "         5    0.40729166666666666    0.00022862368541381    0.00000000000100000\n",
            "         6    0.40468749999999998    0.00006532105297537    0.00000000000100000\n",
            "         7    0.40580357142857143    0.00001905197378448    0.00000000000100000\n",
            "         8    0.40531529017857143    0.00000564502926948    0.00000000000100000\n",
            "         9    0.40553230406746033    0.00000169350878084    0.00000000000100000\n",
            "        10    0.40543464781746030    0.00000051318447904    0.00000000000100000\n",
            "        11    0.40547903702200577    0.00000015680636860    0.00000000000100000\n",
            "        12    0.40545869196992246    0.00000004824811341    0.00000000000100000\n",
            "        13    0.40546808199396089    0.00000001493393987    0.00000000000100000\n",
            "        14    0.40546372233994304    0.00000000464611463    0.00000000000100000\n",
            "        15    0.40546575684515140    0.00000000145191082    0.00000000000100000\n",
            "        16    0.40546480317083500    0.00000000045550143    0.00000000000100000\n",
            "        17    0.40546525195874861    0.00000000014339860    0.00000000000100000\n",
            "        18    0.40546504003112271    0.00000000004528377    0.00000000000100000\n",
            "        19    0.40546514041789289    0.00000000001433986    0.00000000000100000\n",
            "        20    0.40546509273417708    0.00000000000455234    0.00000000000100000\n",
            "        21    0.40546511544070840    0.00000000000144847    0.00000000000100000\n",
            "        22    0.40546510460350027    0.00000000000046183    0.00000000000100000\n",
            "n =  22\n",
            "x =  0.5\n",
            "ln_of_x_1 ≈ ∑_{i=1}^22 [(-1)^(i-1)][(x^i/i)] = 0.40546510460350027\n",
            "math.log(x+1) =  0.4054651081081644\n"
          ]
        }
      ]
    },
    {
      "cell_type": "markdown",
      "source": [
        ""
      ],
      "metadata": {
        "id": "vPzL6OWoQ0j6"
      }
    },
    {
      "cell_type": "markdown",
      "source": [
        "# **Sympy**"
      ],
      "metadata": {
        "id": "Wjii0uWQQ1WR"
      }
    },
    {
      "cell_type": "code",
      "source": [
        "from sympy import series, Symbol\n",
        "from sympy.functions import  exp, log\n",
        "from sympy.plotting import plot\n",
        "import matplotlib.pyplot as plt\n",
        "import math\n",
        "\n",
        "x = Symbol('x')"
      ],
      "metadata": {
        "id": "uSwlu0mzQ02B"
      },
      "execution_count": 62,
      "outputs": []
    },
    {
      "cell_type": "code",
      "source": [
        "def taylor(function, x0, n):\n",
        "    \"\"\"\n",
        "    Parameter \"function\" is our function which we want to approximate\n",
        "    \"x0\" is the point where to approximate\n",
        "    \"n\" is the order of approximation\n",
        "    \"\"\"\n",
        "    return function.series(x,x0,n)"
      ],
      "metadata": {
        "id": "5P7ady25RCcx"
      },
      "execution_count": 63,
      "outputs": []
    },
    {
      "cell_type": "code",
      "source": [
        "print('ln(x+1) ≅', taylor(log(x+1), 0, 8))"
      ],
      "metadata": {
        "colab": {
          "base_uri": "https://localhost:8080/"
        },
        "id": "Eb7Qr9DJREAh",
        "outputId": "cb3bce35-6db5-479b-dff6-3471edb2aa39"
      },
      "execution_count": 82,
      "outputs": [
        {
          "output_type": "stream",
          "name": "stdout",
          "text": [
            "ln(x+1) ≅ x**7/7 - x**6/6 + x**5/5 - x**4/4 + x**3/3 - x**2/2 + x\n"
          ]
        }
      ]
    },
    {
      "cell_type": "code",
      "source": [
        "print('Taylor 0 log(x+1) ≅', taylor(log(x+1), 0, 0))\n",
        "print('Taylor 1 log(x+1) ≅', taylor(log(x+1), 0, 1))\n",
        "print('Taylor 2 log(x+1) ≅', taylor(log(x+1), 0, 2))\n",
        "print('Taylor 3 log(x+1) ≅', taylor(log(x+1), 0, 3))\n",
        "print('Taylor 4 log(x+1) ≅', taylor(log(x+1), 0, 4))\n",
        "print('Taylor 5 log(x+1) ≅', taylor(log(x+1), 0, 5))\n",
        "print('Taylor 6 log(x+1) ≅', taylor(log(x+1), 0, 6))\n",
        "print('Taylor 7 log(x+1) ≅', taylor(log(x+1), 0, 7))\n",
        "print('Taylor 8 log(x+1) ≅', taylor(log(x+1), 0, 8))"
      ],
      "metadata": {
        "colab": {
          "base_uri": "https://localhost:8080/"
        },
        "id": "wLAT_Mr6SgJ5",
        "outputId": "df1f96de-481e-4484-b5cc-a2102c0d4191"
      },
      "execution_count": 72,
      "outputs": [
        {
          "output_type": "stream",
          "name": "stdout",
          "text": [
            "Taylor 0 log(x+1) ≅ O(1)\n",
            "Taylor 1 log(x+1) ≅ O(x)\n",
            "Taylor 2 log(x+1) ≅ x + O(x**2)\n",
            "Taylor 3 log(x+1) ≅ x - x**2/2 + O(x**3)\n",
            "Taylor 4 log(x+1) ≅ x - x**2/2 + x**3/3 + O(x**4)\n",
            "Taylor 5 log(x+1) ≅ x - x**2/2 + x**3/3 - x**4/4 + O(x**5)\n",
            "Taylor 6 log(x+1) ≅ x - x**2/2 + x**3/3 - x**4/4 + x**5/5 + O(x**6)\n",
            "Taylor 7 log(x+1) ≅ x - x**2/2 + x**3/3 - x**4/4 + x**5/5 - x**6/6 + O(x**7)\n",
            "Taylor 8 log(x+1) ≅ x - x**2/2 + x**3/3 - x**4/4 + x**5/5 - x**6/6 + x**7/7 + O(x**8)\n"
          ]
        }
      ]
    },
    {
      "cell_type": "code",
      "source": [
        "print('Taylor 0 log(x+1) ≅', taylor(log(x+1), 0, 0).subs(x,1))\n",
        "print('Taylor 1 log(x+1) ≅', taylor(log(x+1), 0, 1).subs(x,2))\n",
        "print('Taylor 2 log(x+1) ≅', taylor(log(x+1), 0, 2).subs(x,3))\n",
        "print('Taylor 3 log(x+1) ≅', taylor(log(x+1), 0, 3).subs(x,4))\n",
        "print('Taylor 4 log(x+1) ≅', taylor(log(x+1), 0, 4).subs(x,5))\n",
        "print('Taylor 5 log(x+1) ≅', taylor(log(x+1), 0, 5).subs(x,1))\n",
        "print('Taylor 6 log(x+1) ≅', taylor(log(x+1), 0, 6).subs(x,1))\n",
        "print('Taylor 7 log(x+1) ≅', taylor(log(x+1), 0, 7).subs(x,1))\n",
        "print('Taylor 8 log(x+1) ≅', taylor(log(x+1), 0, 8).subs(x,1))"
      ],
      "metadata": {
        "colab": {
          "base_uri": "https://localhost:8080/"
        },
        "id": "O8fSuJ6nSz7q",
        "outputId": "e15348c3-b56a-456e-ea76-05ea19b68c66"
      },
      "execution_count": 79,
      "outputs": [
        {
          "output_type": "stream",
          "name": "stdout",
          "text": [
            "Taylor 0 log(x+1) ≅ O(1)\n",
            "Taylor 1 log(x+1) ≅ O(1)\n",
            "Taylor 2 log(x+1) ≅ O(1)\n",
            "Taylor 3 log(x+1) ≅ O(1)\n",
            "Taylor 4 log(x+1) ≅ O(1)\n",
            "Taylor 5 log(x+1) ≅ O(1)\n",
            "Taylor 6 log(x+1) ≅ O(1)\n",
            "Taylor 7 log(x+1) ≅ O(1)\n",
            "Taylor 8 log(x+1) ≅ O(1)\n"
          ]
        }
      ]
    },
    {
      "cell_type": "code",
      "source": [
        "# Function for Taylor Series Expansion\n",
        "\n",
        "def taylor(function, x0, n):\n",
        "    \"\"\"\n",
        "    Parameter \"function\" is our function which we want to approximate\n",
        "    \"x0\" is the point where to approximate\n",
        "    \"n\" is the order of approximation\n",
        "    \"\"\"\n",
        "    return function.series(x,x0,n).removeO()"
      ],
      "metadata": {
        "id": "bOnItS-CTfOR"
      },
      "execution_count": 80,
      "outputs": []
    },
    {
      "cell_type": "code",
      "source": [
        "print('ln(x+1)  ≅')\n",
        "taylor(log(x+1), 0, 8)"
      ],
      "metadata": {
        "colab": {
          "base_uri": "https://localhost:8080/",
          "height": 71
        },
        "id": "EzvchVoRThUJ",
        "outputId": "c08342f4-5d22-418b-e660-2ed34973336b"
      },
      "execution_count": 84,
      "outputs": [
        {
          "output_type": "stream",
          "name": "stdout",
          "text": [
            "ln(x+1)  ≅\n"
          ]
        },
        {
          "output_type": "execute_result",
          "data": {
            "text/plain": [
              "x**7/7 - x**6/6 + x**5/5 - x**4/4 + x**3/3 - x**2/2 + x"
            ],
            "text/latex": "$\\displaystyle \\frac{x^{7}}{7} - \\frac{x^{6}}{6} + \\frac{x^{5}}{5} - \\frac{x^{4}}{4} + \\frac{x^{3}}{3} - \\frac{x^{2}}{2} + x$"
          },
          "metadata": {},
          "execution_count": 84
        }
      ]
    },
    {
      "cell_type": "code",
      "source": [
        "import math\n",
        "import numpy as np\n",
        "import matplotlib.pyplot as plt\n",
        "# if using a Jupyter notebook, include:\n",
        "%matplotlib inline\n",
        "\n",
        "values = np.arange(-5,5,1/2)\n",
        "p_ln = np.log(values+1)\n",
        "t_exp1 = [taylor(log(x+1), 0, 5).subs(x,v) for v in values]\n",
        "legends = ['ln(x+1) ','Taylor ']\n",
        "\n",
        "fig, ax = plt.subplots()\n",
        "ax.plot(values, p_ln, color ='red')\n",
        "ax.plot(values,t_exp1)\n",
        "\n",
        "ax.set_ylim([-5,5])\n",
        "ax.axhline(y=0.0, xmin=-5.0, xmax=5.0, color='black')\n",
        "ax.axvline(x=0.0, ymin=-10.0, ymax=10.0, color='black')\n",
        "ax.legend(legends)"
      ],
      "metadata": {
        "colab": {
          "base_uri": "https://localhost:8080/",
          "height": 352
        },
        "id": "iPxr_BdWmbIS",
        "outputId": "60fc0c62-ef77-4ce1-a692-71ef3a7a2a04"
      },
      "execution_count": 97,
      "outputs": [
        {
          "output_type": "stream",
          "name": "stderr",
          "text": [
            "/usr/local/lib/python3.7/dist-packages/ipykernel_launcher.py:8: RuntimeWarning: divide by zero encountered in log\n",
            "  \n",
            "/usr/local/lib/python3.7/dist-packages/ipykernel_launcher.py:8: RuntimeWarning: invalid value encountered in log\n",
            "  \n"
          ]
        },
        {
          "output_type": "execute_result",
          "data": {
            "text/plain": [
              "<matplotlib.legend.Legend at 0x7ffb4138fc50>"
            ]
          },
          "metadata": {},
          "execution_count": 97
        },
        {
          "output_type": "display_data",
          "data": {
            "text/plain": [
              "<Figure size 432x288 with 1 Axes>"
            ],
            "image/png": "[encoded data removed]"
          },
          "metadata": {
            "needs_background": "light"
          }
        }
      ]
    },
    {
      "cell_type": "code",
      "source": [
        "import math\n",
        "import numpy as np\n",
        "import matplotlib.pyplot as plt\n",
        "# if using a Jupyter notebook, include:\n",
        "%matplotlib inline\n",
        "\n",
        "values = np.arange(-5,5,1/2)\n",
        "p_ln = np.log(values)\n",
        "t_ln1 = [taylor(log(x+1), 0, 1).subs(x,v) for v in values]\n",
        "t_ln2 = [taylor(log(x+1), 0, 2).subs(x,v) for v in values]\n",
        "t_ln3 = [taylor(log(x+1), 0, 3).subs(x,v) for v in values]\n",
        "t_ln4 = [taylor(log(x+1), 0, 4).subs(x,v) for v in values]\n",
        "legends = ['ln() ','Taylor 0 ','Taylor 1 (linear)','Taylor 2 (quadratic)','Taylor 3 (cubic)']\n",
        "\n",
        "fig, ax = plt.subplots()\n",
        "ax.plot(values,p_ln)\n",
        "ax.plot(values,t_ln1)\n",
        "ax.plot(values,t_ln2)\n",
        "ax.plot(values,t_ln3)\n",
        "ax.plot(values,t_ln4)\n",
        "\n",
        "ax.set_ylim([-5,5])\n",
        "ax.axhline(y=0.0, xmin=-5.0, xmax=5.0, color='black')\n",
        "ax.axvline(x=0.0, ymin=-10.0, ymax=10.0, color='black')\n",
        "ax.legend(legends)\n",
        "\n",
        "plt.show()"
      ],
      "metadata": {
        "colab": {
          "base_uri": "https://localhost:8080/",
          "height": 334
        },
        "id": "aDb_kDjLoNuT",
        "outputId": "691bf287-881c-4a6a-b4ab-04c2815e9ec1"
      },
      "execution_count": 101,
      "outputs": [
        {
          "output_type": "stream",
          "name": "stderr",
          "text": [
            "/usr/local/lib/python3.7/dist-packages/ipykernel_launcher.py:8: RuntimeWarning: divide by zero encountered in log\n",
            "  \n",
            "/usr/local/lib/python3.7/dist-packages/ipykernel_launcher.py:8: RuntimeWarning: invalid value encountered in log\n",
            "  \n"
          ]
        },
        {
          "output_type": "display_data",
          "data": {
            "text/plain": [
              "<Figure size 432x288 with 1 Axes>"
            ],
            "image/png": "[encoded data removed]"
          },
          "metadata": {
            "needs_background": "light"
          }
        }
      ]
    }
  ]
}