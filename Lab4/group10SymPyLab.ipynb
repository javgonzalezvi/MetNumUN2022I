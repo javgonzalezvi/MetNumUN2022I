{
  "nbformat": 4,
  "nbformat_minor": 0,
  "metadata": {
    "colab": {
      "name": "group10SymPyLab.ipynb",
      "provenance": [],
      "collapsed_sections": [],
      "include_colab_link": true
    },
    "kernelspec": {
      "name": "python3",
      "display_name": "Python 3"
    }
  },
  "cells": [
    {
      "cell_type": "markdown",
      "metadata": {
        "id": "view-in-github",
        "colab_type": "text"
      },
      "source": [
        "<a href=\"https://colab.research.google.com/github/javgonzalezvi/MetNumUN2022I/blob/master/Lab4/group10SymPyLab.ipynb\" target=\"_parent\"><img src=\"https://colab.research.google.com/assets/colab-badge.svg\" alt=\"Open In Colab\"/></a>"
      ]
    },
    {
      "cell_type": "markdown",
      "metadata": {
        "id": "vtY1shFnMal_"
      },
      "source": [
        "# SymPyLab\n",
        "\n",
        "SymPy’s documentation\n",
        "- https://docs.sympy.org/latest/index.html\n"
      ]
    },
    {
      "cell_type": "markdown",
      "metadata": {
        "id": "2U0fAIf5G4rR"
      },
      "source": [
        "## SymPy’s polynomials \n",
        "- https://docs.sympy.org/latest/modules/polys/basics.html#polynomials \n",
        "\n",
        "$$ P_n(x) =  a_n x^n + a_{n-1} x^{n-1} + a_{n-2} x^{n-2} +\\cdots +  a_1 x  + a_0$$\n",
        "\n",
        "$$P_n(x) = 0 $$\n",
        "\n",
        "$$a_n x^n + a_{n-1} x^{n-1} + a_{n-2} x^{n-2} +\\cdots +  a_1 x  + a_0 = 0$$\n",
        "\n",
        "$$(x-r_1) Q_{n-1}(x) = P_n(x)$$\n",
        "$$(x-r_1) (x - r_2) Q_{n-2}(x) = P_n(x)$$\n",
        "$$ \\vdots $$\n",
        "\n",
        "- (x-1)(x-2)(x-3)(x-4)(x-5) = x^5 - 15 x^4  + 85 x^3 - 225 x^2 + 274 x - 120\n",
        "\n",
        "- (x^5 - 15 x^4  + 85 x^3 - 225 x^2 + 274 x - 120) / (x-1) = x^4  - 14 x^3  + 71 x^2  - 154 x + 120"
      ]
    },
    {
      "cell_type": "markdown",
      "metadata": {
        "id": "GSRpl42A6UXg"
      },
      "source": [
        "<img src=\"https://raw.githubusercontent.com/gjhernandezp/NM/main/SymPyLab/sympylabwolfram1.jpg\" /> <img src=\"https://raw.githubusercontent.com/gjhernandezp/NM/main/SymPyLab/sympylabwolfram2.jpg\" />\n"
      ]
    },
    {
      "cell_type": "code",
      "metadata": {
        "id": "Fw1yPZWLMb5P",
        "colab": {
          "base_uri": "https://localhost:8080/"
        },
        "outputId": "bd9b4198-9c3b-467d-cd2e-08fe1ebde796"
      },
      "source": [
        "from sympy import Symbol\n",
        "from sympy import div\n",
        "\n",
        "x = Symbol('x')\n",
        "\n",
        "p = x**5 - 15*x**4  + 85*x**3 - 225*x**2 + 274*x - 120\n",
        "\n",
        "p, r = div(p,  x-1)\n",
        "\n",
        "print(p)\n",
        "print(r)\n",
        "\n",
        "p, r = div(p,  x-2)\n",
        "\n",
        "print(p)\n",
        "print(r)\n",
        "\n",
        "p, r = div(p,  x-3)\n",
        "\n",
        "print(p)\n",
        "print(r)\n",
        "\n",
        "p, r = div(p,  x-4)\n",
        "\n",
        "print(p)\n",
        "print(r)\n",
        "\n"
      ],
      "execution_count": null,
      "outputs": [
        {
          "output_type": "stream",
          "name": "stdout",
          "text": [
            "x**4 - 14*x**3 + 71*x**2 - 154*x + 120\n",
            "0\n",
            "x**3 - 12*x**2 + 47*x - 60\n",
            "0\n",
            "x**2 - 9*x + 20\n",
            "0\n",
            "x - 5\n",
            "0\n"
          ]
        }
      ]
    },
    {
      "cell_type": "code",
      "metadata": {
        "colab": {
          "base_uri": "https://localhost:8080/"
        },
        "id": "gQ-VwywTarYw",
        "outputId": "3ead146d-2612-4981-9f75-a40011175147"
      },
      "source": [
        "p = x**5 - 15*x**4  + 85*x**3 - 225*x**2 + 274*x - 120\n",
        "\n",
        "p, r = div(p,  x-6)\n",
        "\n",
        "print(p)\n",
        "print(r)"
      ],
      "execution_count": null,
      "outputs": [
        {
          "output_type": "stream",
          "name": "stdout",
          "text": [
            "x**4 - 9*x**3 + 31*x**2 - 39*x + 40\n",
            "120\n"
          ]
        }
      ]
    },
    {
      "cell_type": "markdown",
      "source": [
        "# **My example**"
      ],
      "metadata": {
        "id": "Cg7-Ztpypb9X"
      }
    },
    {
      "cell_type": "markdown",
      "source": [
        "<div>\n",
        "\n",
        "  <img src=\"https://raw.githubusercontent.com/javgonzalezvi/MetNumUN2022I/master/Lab4/ejemplo%201.png\">\n",
        "\n",
        "</div>"
      ],
      "metadata": {
        "id": "vlUNFFbdFP0b"
      }
    },
    {
      "cell_type": "code",
      "source": [
        "x = Symbol('x')\n",
        "\n",
        "p = x**10 + 7*x**9 - 2439*x**8 - 32631*x**7 + 562662*x**6 + 2556864*x**5 - 23314144*x**4 - 57743920*x**3 + 234213600*x**2 + 275760000*x - 432000000\n",
        "\n",
        "p, r = div(p,  x+6)\n",
        "\n",
        "print(p)\n",
        "print(\"r =\",r)\n",
        "\n",
        "p, r = div(p,  x-6)\n",
        "\n",
        "print(p)\n",
        "print(\"r =\",r)\n",
        "\n",
        "p, r = div(p,  x+40)\n",
        "\n",
        "print(p)\n",
        "print(\"r =\",r)\n",
        "\n",
        "p, r = div(p,  x+25)\n",
        "\n",
        "print(p)\n",
        "print(\"r =\",r)\n",
        "\n",
        "p, r = div(p,  x-50)\n",
        "\n",
        "print(p)\n",
        "print(\"r =\",r)\n",
        "\n",
        "p, r = div(p,  x-10)\n",
        "\n",
        "print(p)\n",
        "print(\"r =\",r)\n",
        "\n",
        "p, r = div(p,  x+4)\n",
        "\n",
        "print(p)\n",
        "print(\"r =\",r)\n",
        "\n",
        "p, r = div(p,  x-3)\n",
        "\n",
        "print(p)\n",
        "print(\"r =\",r)\n",
        "\n",
        "p, r = div(p,  x+2)\n",
        "\n",
        "print(p)\n",
        "print(\"r =\",r)\n",
        "\n",
        "p, r = div(p,  x-1)\n",
        "\n",
        "print(p)\n",
        "print(\"r =\",r)"
      ],
      "metadata": {
        "colab": {
          "base_uri": "https://localhost:8080/"
        },
        "id": "oXTlVEWPpbpH",
        "outputId": "93216215-1640-4251-db5f-50d72920c53f"
      },
      "execution_count": null,
      "outputs": [
        {
          "output_type": "stream",
          "name": "stdout",
          "text": [
            "x**9 + x**8 - 2445*x**7 - 17961*x**6 + 670428*x**5 - 1465704*x**4 - 14519920*x**3 + 29375600*x**2 + 57960000*x - 72000000\n",
            "r = 0\n",
            "x**8 + 7*x**7 - 2403*x**6 - 32379*x**5 + 476154*x**4 + 1391220*x**3 - 6172600*x**2 - 7660000*x + 12000000\n",
            "r = 0\n",
            "x**7 - 33*x**6 - 1083*x**5 + 10941*x**4 + 38514*x**3 - 149340*x**2 - 199000*x + 300000\n",
            "r = 0\n",
            "x**6 - 58*x**5 + 367*x**4 + 1766*x**3 - 5636*x**2 - 8440*x + 12000\n",
            "r = 0\n",
            "x**5 - 8*x**4 - 33*x**3 + 116*x**2 + 164*x - 240\n",
            "r = 0\n",
            "x**4 + 2*x**3 - 13*x**2 - 14*x + 24\n",
            "r = 0\n",
            "x**3 - 2*x**2 - 5*x + 6\n",
            "r = 0\n",
            "x**2 + x - 2\n",
            "r = 0\n",
            "x - 1\n",
            "r = 0\n",
            "1\n",
            "r = 0\n"
          ]
        }
      ]
    },
    {
      "cell_type": "code",
      "source": [
        "p = x**10 + 7*x**9 - 2439*x**8 - 32631*x**7 + 562662*x**6 + 2556864*x**5 - 23314144*x**4 - 57743920*x**3 + 234213600*x**2 + 275760000*x - 432000000\n",
        "\n",
        "p, r = div(p,  x-5)\n",
        "\n",
        "print(p)\n",
        "print(\"r =\",r)"
      ],
      "metadata": {
        "colab": {
          "base_uri": "https://localhost:8080/"
        },
        "id": "x_5ndnkoogT3",
        "outputId": "0499667c-e1d3-4c97-bb44-80742dadef3f"
      },
      "execution_count": null,
      "outputs": [
        {
          "output_type": "stream",
          "name": "stdout",
          "text": [
            "x**9 + 12*x**8 - 2379*x**7 - 44526*x**6 + 340032*x**5 + 4257024*x**4 - 2029024*x**3 - 67889040*x**2 - 105231600*x - 250398000\n",
            "r = -1683990000\n"
          ]
        }
      ]
    },
    {
      "cell_type": "markdown",
      "metadata": {
        "id": "LrP1xT6VKZrE"
      },
      "source": [
        "## SymPy’s polynomial simple univariate polynomial factorization\n",
        "- https://docs.sympy.org/latest/modules/polys/wester.html#simple-univariate-polynomial-factorization\n",
        "- factor(x\\*\\*5 - 15\\*x\\*\\*4  + 85\\*x\\*\\*3 - 225\\*x\\*\\*2 + 274\\*x - 120)"
      ]
    },
    {
      "cell_type": "markdown",
      "metadata": {
        "id": "2NPChCoPLsls"
      },
      "source": [
        "<img src=\"https://raw.githubusercontent.com/gjhernandezp/NM/main/SymPyLab/sympylabwolfram3.jpg\" />\n",
        "\n"
      ]
    },
    {
      "cell_type": "code",
      "metadata": {
        "id": "i2vHjXOIKvQu",
        "colab": {
          "base_uri": "https://localhost:8080/",
          "height": 38
        },
        "outputId": "443a4ee8-79d5-43fc-a745-9f11391d65a2"
      },
      "source": [
        "from sympy import Symbol,factor\n",
        "x = Symbol('x')\n",
        "factor(x**5 - 15*x**4  + 85*x**3 - 225*x**2 + 274*x - 120)"
      ],
      "execution_count": null,
      "outputs": [
        {
          "output_type": "execute_result",
          "data": {
            "text/plain": [
              "(x - 5)*(x - 4)*(x - 3)*(x - 2)*(x - 1)"
            ],
            "text/latex": "$\\displaystyle \\left(x - 5\\right) \\left(x - 4\\right) \\left(x - 3\\right) \\left(x - 2\\right) \\left(x - 1\\right)$"
          },
          "metadata": {},
          "execution_count": 10
        }
      ]
    },
    {
      "cell_type": "markdown",
      "source": [
        "# **My example**"
      ],
      "metadata": {
        "id": "T4QKoSmgze_C"
      }
    },
    {
      "cell_type": "markdown",
      "source": [
        "<img src=\"https://raw.githubusercontent.com/javgonzalezvi/MetNumUN2022I/master/Lab4/ejemplo%20factor.png\">"
      ],
      "metadata": {
        "id": "SFjQB3nrF9I3"
      }
    },
    {
      "cell_type": "code",
      "source": [
        "x = Symbol('x')\n",
        "factor(x**10 + 7*x**9 - 2439*x**8 - 32631*x**7 + 562662*x**6 + 2556864*x**5 - 23314144*x**4 - 57743920*x**3 + 234213600*x**2 + 275760000*x - 432000000)"
      ],
      "metadata": {
        "colab": {
          "base_uri": "https://localhost:8080/",
          "height": 38
        },
        "id": "Vz2WFxCbzjDB",
        "outputId": "5d4cb7d6-7e56-44cf-8485-b4ec7d2baa91"
      },
      "execution_count": null,
      "outputs": [
        {
          "output_type": "execute_result",
          "data": {
            "text/plain": [
              "(x - 50)*(x - 10)*(x - 6)*(x - 3)*(x - 1)*(x + 2)*(x + 4)*(x + 6)*(x + 25)*(x + 40)"
            ],
            "text/latex": "$\\displaystyle \\left(x - 50\\right) \\left(x - 10\\right) \\left(x - 6\\right) \\left(x - 3\\right) \\left(x - 1\\right) \\left(x + 2\\right) \\left(x + 4\\right) \\left(x + 6\\right) \\left(x + 25\\right) \\left(x + 40\\right)$"
          },
          "metadata": {},
          "execution_count": 11
        }
      ]
    },
    {
      "cell_type": "markdown",
      "metadata": {
        "id": "xoq8A5ipMdRa"
      },
      "source": [
        "## SymPy’s solvers\n",
        "- https://docs.sympy.org/latest/tutorial/solvers.html\n",
        "- x\\*\\*5 - 15\\*x\\*\\*4  + 85\\*x\\*\\* 3 - 225\\*x\\*\\* 2 + 274\\*x - 120 = 0"
      ]
    },
    {
      "cell_type": "markdown",
      "metadata": {
        "id": "UpEjlqXZMk8i"
      },
      "source": [
        "<img src=\"https://raw.githubusercontent.com/gjhernandezp/NM/main/SymPyLab/sympylabwolfram4.jpg\" />\n"
      ]
    },
    {
      "cell_type": "code",
      "metadata": {
        "id": "DLzUsS8YMlNK",
        "colab": {
          "base_uri": "https://localhost:8080/",
          "height": 37
        },
        "outputId": "8b23f10e-d8f6-466f-e52d-34f03073970e"
      },
      "source": [
        "from sympy import Symbol, solveset, Eq\n",
        "x = Symbol('x')\n",
        "solveset(Eq(x**5 - 15*x**4  + 85*x**3 - 225*x**2 + 274*x - 120, 0), x)\n"
      ],
      "execution_count": null,
      "outputs": [
        {
          "output_type": "execute_result",
          "data": {
            "text/plain": [
              "FiniteSet(1, 2, 3, 4, 5)"
            ],
            "text/latex": "$\\displaystyle \\left\\{1, 2, 3, 4, 5\\right\\}$"
          },
          "metadata": {},
          "execution_count": 6
        }
      ]
    },
    {
      "cell_type": "markdown",
      "source": [
        "# **My example**"
      ],
      "metadata": {
        "id": "FO7vgBlL0fUS"
      }
    },
    {
      "cell_type": "markdown",
      "source": [
        "<img src=\"https://github.com/javgonzalezvi/MetNumUN2022I/blob/master/Lab4/ejemplo%20solveset.png?raw=true\">"
      ],
      "metadata": {
        "id": "mAIWIj56GVtN"
      }
    },
    {
      "cell_type": "code",
      "source": [
        "from sympy import Symbol, solveset, Eq\n",
        "x = Symbol('x')\n",
        "solveset(Eq(x**10 + 7*x**9 - 2439*x**8 - 32631*x**7 + 562662*x**6 + 2556864*x**5 - 23314144*x**4 - 57743920*x**3 + 234213600*x**2 + 275760000*x - 432000000, 0), x)"
      ],
      "metadata": {
        "colab": {
          "base_uri": "https://localhost:8080/",
          "height": 37
        },
        "id": "rM7foeiW0gYh",
        "outputId": "680f8e0f-cc29-4efe-aa1c-c4545b8606e8"
      },
      "execution_count": null,
      "outputs": [
        {
          "output_type": "execute_result",
          "data": {
            "text/plain": [
              "FiniteSet(-40, -25, -6, -4, -2, 1, 3, 6, 10, 50)"
            ],
            "text/latex": "$\\displaystyle \\left\\{-40, -25, -6, -4, -2, 1, 3, 6, 10, 50\\right\\}$"
          },
          "metadata": {},
          "execution_count": 13
        }
      ]
    },
    {
      "cell_type": "markdown",
      "source": [
        "<img src=\"https://raw.githubusercontent.com/gjhernandezp/NM/main/SymPyLab/sympylabwolfram5.jpg\" />\n"
      ],
      "metadata": {
        "id": "pi7rUwG472tc"
      }
    },
    {
      "cell_type": "code",
      "metadata": {
        "colab": {
          "base_uri": "https://localhost:8080/",
          "height": 47
        },
        "id": "ALzYmizCcXvv",
        "outputId": "31df442c-fe21-4c2f-cc6f-7479526ccb2e"
      },
      "source": [
        "from sympy import Symbol, solveset, Eq, sqrt, pi\n",
        "x = Symbol('x')\n",
        "solveset(Eq(x**2 - (sqrt(2)+pi)*x + (sqrt(2)*pi) , 0), x)\n"
      ],
      "execution_count": null,
      "outputs": [
        {
          "output_type": "execute_result",
          "data": {
            "text/plain": [
              "FiniteSet(pi, sqrt(2))"
            ],
            "text/latex": "$\\displaystyle \\left\\{\\sqrt{2}, \\pi\\right\\}$"
          },
          "metadata": {},
          "execution_count": 15
        }
      ]
    },
    {
      "cell_type": "markdown",
      "metadata": {
        "id": "kw48-B_Z_vQc"
      },
      "source": [
        "*   Reference docs for the Poly Domains https://docs.sympy.org/dev/modules/polys/domainsref.html\n",
        "\n",
        "*   Introducing the Domains of the poly module https://docs.sympy.org/dev/modules/polys/domainsintro.html\n",
        "\n",
        "*   Internals of the Polynomial Manipulation Module https://docs.sympy.org/latest/modules/polys/internals.html"
      ]
    },
    {
      "cell_type": "markdown",
      "source": [
        "# **My example**"
      ],
      "metadata": {
        "id": "ZdA1sNdy1vDK"
      }
    },
    {
      "cell_type": "markdown",
      "source": [
        "<img src=\"https://github.com/javgonzalezvi/MetNumUN2022I/blob/master/Lab4/ejemplo%20solveset%20raiz.png?raw=true\">"
      ],
      "metadata": {
        "id": "BDK6DcOWGlhO"
      }
    },
    {
      "cell_type": "code",
      "source": [
        "x = Symbol('x')\n",
        "solveset(Eq(x - (sqrt(8)+pi)*x - (math.e)**pi, 0), x)"
      ],
      "metadata": {
        "colab": {
          "base_uri": "https://localhost:8080/",
          "height": 58
        },
        "id": "9s6gZOEf1v8h",
        "outputId": "794334db-3c67-43b2-c23a-c754485bdea8"
      },
      "execution_count": null,
      "outputs": [
        {
          "output_type": "execute_result",
          "data": {
            "text/plain": [
              "FiniteSet(-2.71828182845905**pi/(-1 + 2*sqrt(2) + pi))"
            ],
            "text/latex": "$\\displaystyle \\left\\{- \\frac{2.71828182845905^{\\pi}}{-1 + 2 \\sqrt{2} + \\pi}\\right\\}$"
          },
          "metadata": {},
          "execution_count": 19
        }
      ]
    },
    {
      "cell_type": "markdown",
      "source": [
        "<img src=\"https://raw.githubusercontent.com/gjhernandezp/NM/main/SymPyLab/sympylabwolfram6.jpg\" />"
      ],
      "metadata": {
        "id": "G4hb9Ak_-ujE"
      }
    },
    {
      "cell_type": "code",
      "source": [
        "from sympy import Symbol,factor\n",
        "x = Symbol('x')\n",
        "factor(x**5 - 2*x**4  - x**3 + 8*x**2 - 10*x - 4,domain='GF(2)')"
      ],
      "metadata": {
        "colab": {
          "base_uri": "https://localhost:8080/",
          "height": 39
        },
        "id": "EdK4Tfz0-dLW",
        "outputId": "aeb1ba7e-d840-4de0-a95a-3cd4b378fd8c"
      },
      "execution_count": null,
      "outputs": [
        {
          "output_type": "execute_result",
          "data": {
            "text/plain": [
              "x**3*(x + 1)**2"
            ],
            "text/latex": "$\\displaystyle x^{3} \\left(x + 1\\right)^{2}$"
          },
          "metadata": {},
          "execution_count": 9
        }
      ]
    },
    {
      "cell_type": "markdown",
      "source": [
        "# **My example**"
      ],
      "metadata": {
        "id": "tJ-rrpEXuvzn"
      }
    },
    {
      "cell_type": "markdown",
      "source": [
        "<img src=\"https://github.com/javgonzalezvi/MetNumUN2022I/blob/master/Lab4/factor%20modulo.png?raw=true\">"
      ],
      "metadata": {
        "id": "gTQEt28KGv3d"
      }
    },
    {
      "cell_type": "code",
      "source": [
        "from sympy import Symbol,factor\n",
        "x = Symbol('x')\n",
        "factor(x**7 - (5*x**6) + (6*x**5)  - (9*x**3) + (5*x**2) - x + 100, domain='GF(2)')"
      ],
      "metadata": {
        "colab": {
          "base_uri": "https://localhost:8080/",
          "height": 38
        },
        "id": "Mpm4sXr-u22A",
        "outputId": "9af60f00-2fe2-4868-84ef-ccf072960658"
      },
      "execution_count": null,
      "outputs": [
        {
          "output_type": "execute_result",
          "data": {
            "text/plain": [
              "x*(x**6 + x**5 + x**2 + x + 1)"
            ],
            "text/latex": "$\\displaystyle x \\left(x^{6} + x^{5} + x^{2} + x + 1\\right)$"
          },
          "metadata": {},
          "execution_count": 28
        }
      ]
    },
    {
      "cell_type": "markdown",
      "metadata": {
        "id": "OtsxSwPmV3Vs"
      },
      "source": [
        "## SymPy’s Symbolic and Numercical Complex Evaluations\n",
        "- https://docs.sympy.org/latest/modules/evalf.html](https://)\n",
        "- x = x1 + I*x2,y = y1 + I*y2, z = z1 + I*z2, x*y*z"
      ]
    },
    {
      "cell_type": "markdown",
      "metadata": {
        "id": "XxWt-AcaZxdp"
      },
      "source": [
        "<img src=\"https://raw.githubusercontent.com/gjhernandezp/NM/main/SymPyLab/sympylabwolfram7.jpg\" />"
      ]
    },
    {
      "cell_type": "code",
      "metadata": {
        "id": "ENDQbfLGV31r",
        "colab": {
          "base_uri": "https://localhost:8080/"
        },
        "outputId": "defb51ae-f988-4b7d-be97-9a5ccb5d1888"
      },
      "source": [
        "from sympy import symbols, I, N, pi, expand\n",
        "x1, x2, y1, y2, z1, z2 = symbols(\"x1 x2 y1 y2 z1 z2\", real=True)  \n",
        "x = x1 + I*x2\n",
        "y = y1 + I*y2\n",
        "z = z1 + I*z2\n",
        "\n",
        "print(x*y*z)\n",
        "print(expand(x*y*z))\n",
        "print(expand((x*y)*z))\n",
        "print(expand(x*(y*z)))\n",
        "\n",
        "w=N(1/(pi + I), 20)\n",
        "print('w=',w)"
      ],
      "execution_count": 1,
      "outputs": [
        {
          "output_type": "stream",
          "name": "stdout",
          "text": [
            "(x1 + I*x2)*(y1 + I*y2)*(z1 + I*z2)\n",
            "x1*y1*z1 + I*x1*y1*z2 + I*x1*y2*z1 - x1*y2*z2 + I*x2*y1*z1 - x2*y1*z2 - x2*y2*z1 - I*x2*y2*z2\n",
            "x1*y1*z1 + I*x1*y1*z2 + I*x1*y2*z1 - x1*y2*z2 + I*x2*y1*z1 - x2*y1*z2 - x2*y2*z1 - I*x2*y2*z2\n",
            "x1*y1*z1 + I*x1*y1*z2 + I*x1*y2*z1 - x1*y2*z2 + I*x2*y1*z1 - x2*y1*z2 - x2*y2*z1 - I*x2*y2*z2\n",
            "w= 0.28902548222223624241 - 0.091999668350375232456*I\n"
          ]
        }
      ]
    },
    {
      "cell_type": "markdown",
      "source": [
        "# **My example**"
      ],
      "metadata": {
        "id": "muHtEX6568qP"
      }
    },
    {
      "cell_type": "markdown",
      "source": [
        "<img src=\"https://github.com/javgonzalezvi/MetNumUN2022I/blob/master/Lab4/complejos.png?raw=true\">"
      ],
      "metadata": {
        "id": "vnxQNuI1G49r"
      }
    },
    {
      "cell_type": "code",
      "source": [
        "from sympy import symbols, I, N, pi, expand\n",
        "\n",
        "x1, y1, y2, z1, z2 = symbols(\"x1 y1 y2 z1 z2\", real=True) \n",
        "\n",
        "x = I*x1\n",
        "y= y1 - I*y2\n",
        "z= z1 + I*z2\n",
        "\n",
        "print(x*y*z)\n",
        "print(expand(x*y*z))\n",
        "print(expand((x*y)*z))\n",
        "print(expand(x*(y*z)))\n",
        "\n",
        "w=N(1/(pi + I), 20)\n",
        "print('w=',w)"
      ],
      "metadata": {
        "colab": {
          "base_uri": "https://localhost:8080/"
        },
        "id": "ruOk7CFM7BhI",
        "outputId": "ec8c7fe5-eb40-4473-94bd-44a97bd6a5c9"
      },
      "execution_count": 3,
      "outputs": [
        {
          "output_type": "stream",
          "name": "stdout",
          "text": [
            "I*x1*(y1 - I*y2)*(z1 + I*z2)\n",
            "I*x1*y1*z1 - x1*y1*z2 + x1*y2*z1 + I*x1*y2*z2\n",
            "I*x1*y1*z1 - x1*y1*z2 + x1*y2*z1 + I*x1*y2*z2\n",
            "I*x1*y1*z1 - x1*y1*z2 + x1*y2*z1 + I*x1*y2*z2\n",
            "w= 0.28902548222223624241 - 0.091999668350375232456*I\n"
          ]
        }
      ]
    },
    {
      "cell_type": "markdown",
      "metadata": {
        "id": "eaqIgmnkPNVT"
      },
      "source": [
        "## Wolfram alpha answers quastion in natural languaje\n",
        "- What is the average temperature in Bogota in September?\n",
        "\n",
        "<img src=\"https://raw.githubusercontent.com/gjhernandezp/NM/main/SymPyLab/sympylabwolfram8.jpg\" />"
      ]
    },
    {
      "cell_type": "markdown",
      "source": [
        "# **My example**\n",
        "\n",
        "<img src=\"https://github.com/javgonzalezvi/MetNumUN2022I/blob/master/Lab4/pregunta.png?raw=true\">"
      ],
      "metadata": {
        "id": "BwtS5TbOHADU"
      }
    },
    {
      "cell_type": "markdown",
      "source": [
        "## SymPy’s integrate\n",
        "\n",
        "<img src=\"https://raw.githubusercontent.com/gjhernandezp/NM/main/SymPyLab/sympylabwolfram9.jpg\" />\n",
        "\n"
      ],
      "metadata": {
        "id": "FIbSSOvEC8R0"
      }
    },
    {
      "cell_type": "code",
      "source": [
        "from sympy import Symbol, integrate, sin\n",
        "x = Symbol('x')\n",
        "integrate(x**2 * sin(x)**3, x)"
      ],
      "metadata": {
        "colab": {
          "base_uri": "https://localhost:8080/",
          "height": 55
        },
        "id": "p5wwxfa7BtzU",
        "outputId": "6dc4e080-b9ef-4fb4-ca1b-1c15e9f52ae4"
      },
      "execution_count": 4,
      "outputs": [
        {
          "output_type": "execute_result",
          "data": {
            "text/plain": [
              "-x**2*sin(x)**2*cos(x) - 2*x**2*cos(x)**3/3 + 14*x*sin(x)**3/9 + 4*x*sin(x)*cos(x)**2/3 + 14*sin(x)**2*cos(x)/9 + 40*cos(x)**3/27"
            ],
            "text/latex": "$\\displaystyle - x^{2} \\sin^{2}{\\left(x \\right)} \\cos{\\left(x \\right)} - \\frac{2 x^{2} \\cos^{3}{\\left(x \\right)}}{3} + \\frac{14 x \\sin^{3}{\\left(x \\right)}}{9} + \\frac{4 x \\sin{\\left(x \\right)} \\cos^{2}{\\left(x \\right)}}{3} + \\frac{14 \\sin^{2}{\\left(x \\right)} \\cos{\\left(x \\right)}}{9} + \\frac{40 \\cos^{3}{\\left(x \\right)}}{27}$"
          },
          "metadata": {},
          "execution_count": 4
        }
      ]
    },
    {
      "cell_type": "markdown",
      "source": [
        "<img src=\"https://raw.githubusercontent.com/gjhernandezp/NM/main/SymPyLab/sympylabwolfram10.jpg\" />"
      ],
      "metadata": {
        "id": "JkW8LPxbD2Eq"
      }
    },
    {
      "cell_type": "code",
      "source": [
        "from sympy import Symbol, integrate, sin\n",
        "x = Symbol('x')\n",
        "integrate(x**2 * sin(x)**3, (x,1,5))\n"
      ],
      "metadata": {
        "colab": {
          "base_uri": "https://localhost:8080/",
          "height": 55
        },
        "id": "EoipdE0UD7Aa",
        "outputId": "f1ffed6f-a3fc-4545-d6a6-4fb5d2a32633"
      },
      "execution_count": 5,
      "outputs": [
        {
          "output_type": "execute_result",
          "data": {
            "text/plain": [
              "70*sin(5)**3/9 - 211*sin(5)**2*cos(5)/9 - 14*sin(1)**3/9 + 20*sin(5)*cos(5)**2/3 - 410*cos(5)**3/27 - 4*sin(1)*cos(1)**2/3 - 5*sin(1)**2*cos(1)/9 - 22*cos(1)**3/27"
            ],
            "text/latex": "$\\displaystyle \\frac{70 \\sin^{3}{\\left(5 \\right)}}{9} - \\frac{211 \\sin^{2}{\\left(5 \\right)} \\cos{\\left(5 \\right)}}{9} - \\frac{14 \\sin^{3}{\\left(1 \\right)}}{9} + \\frac{20 \\sin{\\left(5 \\right)} \\cos^{2}{\\left(5 \\right)}}{3} - \\frac{410 \\cos^{3}{\\left(5 \\right)}}{27} - \\frac{4 \\sin{\\left(1 \\right)} \\cos^{2}{\\left(1 \\right)}}{3} - \\frac{5 \\sin^{2}{\\left(1 \\right)} \\cos{\\left(1 \\right)}}{9} - \\frac{22 \\cos^{3}{\\left(1 \\right)}}{27}$"
          },
          "metadata": {},
          "execution_count": 5
        }
      ]
    },
    {
      "cell_type": "code",
      "source": [
        "from sympy import Symbol, integrate, sin, N\n",
        "x = Symbol('x')\n",
        "N(integrate(x**2 * sin(x)**3, (x,1,5)))\n"
      ],
      "metadata": {
        "colab": {
          "base_uri": "https://localhost:8080/",
          "height": 37
        },
        "id": "rFRmuWfnEPWb",
        "outputId": "76804c84-0d66-4cd4-f557-f988d8451158"
      },
      "execution_count": 6,
      "outputs": [
        {
          "output_type": "execute_result",
          "data": {
            "text/plain": [
              "-15.4297821533056"
            ],
            "text/latex": "$\\displaystyle -15.4297821533056$"
          },
          "metadata": {},
          "execution_count": 6
        }
      ]
    },
    {
      "cell_type": "markdown",
      "source": [
        "# **My example**"
      ],
      "metadata": {
        "id": "nimCMQF09eXE"
      }
    },
    {
      "cell_type": "markdown",
      "source": [
        "<img src=\"https://github.com/javgonzalezvi/MetNumUN2022I/blob/master/Lab4/integral.png?raw=true\">"
      ],
      "metadata": {
        "id": "HPaQX2z7HM-N"
      }
    },
    {
      "cell_type": "code",
      "source": [
        "import math\n",
        "from sympy import Symbol, integrate, sin, N\n",
        "x = Symbol('x')\n",
        "integrate((x**2)*cos(2*x) , (x,-2,4))"
      ],
      "metadata": {
        "colab": {
          "base_uri": "https://localhost:8080/",
          "height": 53
        },
        "id": "msJNFLbhANIy",
        "outputId": "577b1eae-fe49-4fec-a433-7bba39f13fda"
      },
      "execution_count": 33,
      "outputs": [
        {
          "output_type": "execute_result",
          "data": {
            "text/plain": [
              "7*sin(4)/4 + cos(4) + 2*cos(8) + 31*sin(8)/4"
            ],
            "text/latex": "$\\displaystyle \\frac{7 \\sin{\\left(4 \\right)}}{4} + \\cos{\\left(4 \\right)} + 2 \\cos{\\left(8 \\right)} + \\frac{31 \\sin{\\left(8 \\right)}}{4}$"
          },
          "metadata": {},
          "execution_count": 33
        }
      ]
    },
    {
      "cell_type": "code",
      "source": [
        "import math\n",
        "from sympy import Symbol, integrate,  cos, N\n",
        "x = Symbol('x')\n",
        "N(integrate((x**2)*cos(2*x) , (x,-2,4)))"
      ],
      "metadata": {
        "colab": {
          "base_uri": "https://localhost:8080/",
          "height": 37
        },
        "id": "JbDnHQGo_-h_",
        "outputId": "ebe37e40-71c3-45d7-c3de-fed646524efd"
      },
      "execution_count": 32,
      "outputs": [
        {
          "output_type": "execute_result",
          "data": {
            "text/plain": [
              "5.39847835606150"
            ],
            "text/latex": "$\\displaystyle 5.3984783560615$"
          },
          "metadata": {},
          "execution_count": 32
        }
      ]
    }
  ]
}