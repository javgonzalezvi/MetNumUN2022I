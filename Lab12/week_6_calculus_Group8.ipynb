{
  "cells": [
    {
      "cell_type": "markdown",
      "metadata": {
        "id": "view-in-github",
        "colab_type": "text"
      },
      "source": [
        "<a href=\"https://colab.research.google.com/github/javgonzalezvi/MetNumUN2022I/blob/master/Lab12/week_6_calculus_Group8.ipynb\" target=\"_parent\"><img src=\"https://colab.research.google.com/assets/colab-badge.svg\" alt=\"Open In Colab\"/></a>"
      ]
    },
    {
      "cell_type": "markdown",
      "metadata": {
        "id": "YZ6hwl54BVx8"
      },
      "source": [
        "# Part I. One-sided finite differences"
      ]
    },
    {
      "cell_type": "markdown",
      "metadata": {
        "id": "Lv49lruLBVyI"
      },
      "source": [
        "Write a function, `deriv`, which computes a derivative of its argument at a given point, $x$, using a one-sided finite difference rule with a given step side $h$, with the approximation order of $O(h^2)$. "
      ]
    },
    {
      "cell_type": "code",
      "execution_count": 19,
      "metadata": {
        "collapsed": true,
        "id": "YRX5gz3GBVyK"
      },
      "outputs": [],
      "source": [
        "def deriv(f, x, h):\n",
        "   \n",
        "    f_d = lambda q: (f(x+q*h) - f(x))/(q*h)\n",
        "\n",
        "    fder = 2*f_d(0.5) - f_d(1)\n",
        "\n",
        "    return fder"
      ]
    },
    {
      "cell_type": "markdown",
      "metadata": {
        "id": "8hdS9IB2BVyO"
      },
      "source": [
        "#### Test I.1\n",
        "\n",
        "Test your function on a simple test case: differentiate $f(x) = x^3$ at $x=0$. Comment on whether your results are consistent with the expected value of $f'(x) = 0$ and on an expected scaling with $h\\to 0$.\n",
        "\n",
        " (10% of the total grade)"
      ]
    },
    {
      "cell_type": "code",
      "execution_count": 20,
      "metadata": {
        "colab": {
          "base_uri": "https://localhost:8080/"
        },
        "id": "HQi0iYfzBVyP",
        "outputId": "51ba9950-e3a9-40ef-d37a-d5b4b3c3948a"
      },
      "outputs": [
        {
          "output_type": "stream",
          "name": "stdout",
          "text": [
            "0.01 --------- -5.000000000000001e-05\n",
            "0.001 --------- -5e-07\n",
            "0.0001 --------- -5.000000000000001e-09\n",
            "1e-05 --------- -5.000000000000001e-11\n"
          ]
        }
      ],
      "source": [
        "x = 0\n",
        "\n",
        "for h in [1e-2, 1e-3, 1e-4, 1e-5]:\n",
        "    err = deriv(lambda x: x**3, x, h)\n",
        "    \n",
        "    print(h,\"---------\",err)"
      ]
    },
    {
      "cell_type": "markdown",
      "metadata": {
        "id": "IQ9l3X6OBVyR"
      },
      "source": [
        " ... ENTER YOUR COMMENTS HERE ..."
      ]
    },
    {
      "cell_type": "markdown",
      "metadata": {
        "id": "cB2lIjctBVyS"
      },
      "source": [
        "### Test I.2\n",
        "\n",
        "Now use a slightly more complicated function, $f(x) = x^2 \\log{x}$, evaluate the derivative at $x=1$ using your one-sided rule and a two-point one-sided rule. Roughly estimate the value of $h$ where the error stops decreasing, for these two schemes. \n",
        "(15% of the total grade)"
      ]
    },
    {
      "cell_type": "code",
      "execution_count": 33,
      "metadata": {
        "collapsed": true,
        "id": "eIXMc9dgBVyU"
      },
      "outputs": [],
      "source": [
        "from math import log\n",
        "import matplotlib.pyplot as plt\n",
        "\n",
        "def f(x):\n",
        "    return x**2 * log(x)\n",
        "    \n",
        "def fder(x):\n",
        "    return x * (2.*log(x) + 1)"
      ]
    },
    {
      "cell_type": "code",
      "source": [
        "def two_points(f, x, h):\n",
        "    return (f(x+h)-f(x))/h\n",
        "\n",
        "eps = []\n",
        "err1 = [abs(fder(1) - deriv(f, 1, pow(10, -i))) for i in range(1, 20)] \n",
        "err2 = [abs(fder(1) - two_points(f, 1, pow(10, -i))) for i in range(1, 20)] "
      ],
      "metadata": {
        "id": "1g-_q6j8Os-D"
      },
      "execution_count": 34,
      "outputs": []
    },
    {
      "cell_type": "code",
      "source": [
        "err1 = [abs(fder(1) - deriv(f, 1, pow(10, -i))) for i in range(1, 20)] \n",
        "\n",
        "plt.plot(list(range(1, 20)), err1)\n",
        "plt.legend(labels = [\"one-sided rule\"])\n",
        "plt.show()"
      ],
      "metadata": {
        "colab": {
          "base_uri": "https://localhost:8080/",
          "height": 265
        },
        "id": "dlzrRbpKOlz8",
        "outputId": "8d17cb25-84cf-4da1-ad95-4d5ae742f456"
      },
      "execution_count": 35,
      "outputs": [
        {
          "output_type": "display_data",
          "data": {
            "text/plain": [
              "<Figure size 432x288 with 1 Axes>"
            ],
            "image/png": "[encoded data removed]"
          },
          "metadata": {
            "needs_background": "light"
          }
        }
      ]
    },
    {
      "cell_type": "code",
      "source": [
        "err2 = [abs(fder(1) - two_points(f, 1, pow(10, -i))) for i in range(1, 20)] \n",
        "\n",
        "plt.plot(list(range(1, 20)), err2)\n",
        "plt.legend(labels = [\"two point one-sided rule\"])\n",
        "plt.show()"
      ],
      "metadata": {
        "colab": {
          "base_uri": "https://localhost:8080/",
          "height": 265
        },
        "id": "aAII8CspOock",
        "outputId": "3224ca8f-5403-447c-b479-e43a3c7c5e1d"
      },
      "execution_count": 38,
      "outputs": [
        {
          "output_type": "display_data",
          "data": {
            "text/plain": [
              "<Figure size 432x288 with 1 Axes>"
            ],
            "image/png": "[encoded data removed]"
          },
          "metadata": {
            "needs_background": "light"
          }
        }
      ]
    },
    {
      "cell_type": "code",
      "execution_count": 37,
      "metadata": {
        "colab": {
          "base_uri": "https://localhost:8080/",
          "height": 265
        },
        "id": "02zGIXO7BVyW",
        "outputId": "b2978d0e-0003-4b3a-a704-81e2d5f609b0"
      },
      "outputs": [
        {
          "output_type": "display_data",
          "data": {
            "text/plain": [
              "<Figure size 432x288 with 1 Axes>"
            ],
            "image/png": "[encoded data removed]"
          },
          "metadata": {
            "needs_background": "light"
          }
        }
      ],
      "source": [
        "plt.plot(list(range(1, 20)), err1)\n",
        "plt.plot(list(range(1, 20)), err2)\n",
        "plt.legend(labels = [\"one-sided rule\", \"two point one-sided rule\"])\n",
        "plt.show()"
      ]
    },
    {
      "cell_type": "markdown",
      "metadata": {
        "id": "tzaCHmNUBVyX"
      },
      "source": [
        "### Test I.3 \n",
        "\n",
        "Now try differentiating $x^2 \\log(x)$ at $x=0$. Use the three-point one-sided rule. Note that to evaluate the function at zero, you need to special-case this value. Check the scaling of the error with $h$, explain your results. \n",
        "(25% of the total grade)"
      ]
    },
    {
      "cell_type": "code",
      "execution_count": 42,
      "metadata": {
        "colab": {
          "base_uri": "https://localhost:8080/"
        },
        "id": "SSDs-ucLBVyZ",
        "outputId": "41278ab3-f569-4d02-e4a5-67912813c9ce"
      },
      "outputs": [
        {
          "output_type": "stream",
          "name": "stdout",
          "text": [
            "0.01 ------------ -0.006931471805599457\n",
            "0.001 ------------ -0.0006931471805599453\n",
            "0.0001 ------------ -6.931471805599455e-05\n",
            "1e-05 ------------ -6.93147180559945e-06\n"
          ]
        }
      ],
      "source": [
        "def f(x):\n",
        "    if x == 0:\n",
        "        # the limit of $x^2 log(x)$ at $x-> 0$ is zero, even though log(x) is undefined at x=0\n",
        "        return 0.0\n",
        "    else:\n",
        "        return x**2 * log(x)\n",
        "    \n",
        "def fder(x):\n",
        "    if x == 0:\n",
        "        return 0.0\n",
        "    else:\n",
        "        return x*(2*log(x) + 1)\n",
        "\n",
        "x = 0\n",
        "for h in [1e-2, 1e-3, 1e-4, 1e-5]:\n",
        "    err = deriv(f, x, h) - fder(x)\n",
        "    print(h,'------------', err)"
      ]
    },
    {
      "cell_type": "markdown",
      "metadata": {
        "id": "Y8B-b9vSBVya"
      },
      "source": [
        "# Part II. Midpoint rule "
      ]
    },
    {
      "cell_type": "markdown",
      "metadata": {
        "id": "MFUYQGCgBVyb"
      },
      "source": [
        "Write a function which computes a definite integral using the midpoint rule up to a given error, $\\epsilon$. Estimate the error by comparing the estimates of the integral at $N$ and $2N$ elementary intervals. "
      ]
    },
    {
      "cell_type": "code",
      "execution_count": 49,
      "metadata": {
        "collapsed": true,
        "id": "AlzYnk_HBVyc"
      },
      "outputs": [],
      "source": [
        "def midpoint(func, a, b, eps):\n",
        "    \n",
        "    N = 5\n",
        "    err = eps+1\n",
        "    prev_iter = 1e30\n",
        "    \n",
        "    while err > eps and N < 1e5:\n",
        "        h = (b - a)/N\n",
        "        intg = 0\n",
        "\n",
        "        for i in range(1, N+1):\n",
        "            intg += func(h*i-h/2.0)*h\n",
        "\n",
        "        err = abs(prev_iter - intg)\n",
        "        prev_iter = intg\n",
        "        N = N*2\n",
        "        \n",
        "    return prev_iter, N/2"
      ]
    },
    {
      "cell_type": "markdown",
      "metadata": {
        "id": "Lx4mFRVSBVyd"
      },
      "source": [
        "### Test II.1\n",
        "\n",
        "Test your midpoint rule on a simple integral, which you can calculate by paper and pencil.\n",
        "\n",
        "Compare the rate of convergence to the expected $O(N^{-2})$ scaling by studying the number of intervals required for a given accuracy $\\epsilon$.\n",
        "\n",
        "Compare the numerical results to the value you calculated by hand. Does the deviation agree with your estimate of the numerical error?\n",
        "(20% of the total grade)\n"
      ]
    },
    {
      "cell_type": "code",
      "source": [
        "for h in [1e-2, 1e-3, 1e-4, 1e-10]:\n",
        "\n",
        "    err = midpoint(lambda x: x**3, 0, 1, h)\n",
        "    print(err[1])\n",
        "    print(h, \" ------- \" ,err[0]-0.25)"
      ],
      "metadata": {
        "colab": {
          "base_uri": "https://localhost:8080/"
        },
        "id": "Qis3kkbHtVNT",
        "outputId": "171d2d75-7c4b-47cd-d8ba-5472f3b5d06d"
      },
      "execution_count": 54,
      "outputs": [
        {
          "output_type": "stream",
          "name": "stdout",
          "text": [
            "10.0\n",
            "0.01  -------  -0.0012500000000000011\n",
            "20.0\n",
            "0.001  -------  -0.0003124999999999656\n",
            "80.0\n",
            "0.0001  -------  -1.9531249999982236e-05\n",
            "81920.0\n",
            "1e-10  -------  -1.8626294950863098e-11\n"
          ]
        }
      ]
    },
    {
      "cell_type": "markdown",
      "metadata": {
        "id": "NJ2ciOOgBVyf"
      },
      "source": [
        "### Test II.2\n",
        "\n",
        "Now use your midpoint rule to compute the value of\n",
        "\n",
        "$$\n",
        "\\int_0^1\\! \\frac{\\sin{\\sqrt{x}}}{x}\\, dx\n",
        "$$\n",
        "\n",
        "up to a predefined accuracy of $\\epsilon=10^{-4}$.\n",
        "\n",
        "Note that the integral contains an integrable singularity at the lower limit. Do calculations two ways: first, do a straightforward computation; next, subtract the singularity. Compare the number of iterations required to achieve the accuracy of $\\epsilon$.\n",
        "\n",
        "(30% of the total grade)"
      ]
    },
    {
      "cell_type": "code",
      "execution_count": 53,
      "metadata": {
        "collapsed": true,
        "id": "O2L1yS6PBVyg",
        "colab": {
          "base_uri": "https://localhost:8080/"
        },
        "outputId": "1110977a-4bc7-4734-a658-784bc826728e"
      },
      "outputs": [
        {
          "output_type": "stream",
          "name": "stdout",
          "text": [
            "640.0\n",
            "0.01 ||||||| -0.023911286981694646\n",
            "10.0\n",
            "0.01 ||||||| -0.0002907672033141129\n",
            "---------------\n",
            "81920.0\n",
            "0.001 ||||||| -0.002113429313944648\n",
            "10.0\n",
            "0.001 ||||||| -0.0002907672033141129\n",
            "---------------\n",
            "81920.0\n",
            "0.0001 ||||||| -0.002113429313944648\n",
            "40.0\n",
            "0.0001 ||||||| -3.8242972253854646e-05\n",
            "---------------\n",
            "81920.0\n",
            "1e-05 ||||||| -0.002113429313944648\n",
            "160.0\n",
            "1e-05 ||||||| -4.897720521590543e-06\n",
            "---------------\n"
          ]
        }
      ],
      "source": [
        "import numpy as np\n",
        "\n",
        "func = lambda x: np.sin(np.sqrt(x))/x\n",
        "m_func = lambda x: (np.sqrt(x)*np.sin(np.sqrt(x))-x)/(x*np.sqrt(x))\n",
        "\n",
        "true_integral = 1.8921661407343660298827066\n",
        "\n",
        "for h in [1e-2, 1e-3, 1e-4, 1e-5]:\n",
        "    err = midpoint(func, 0, 1, h)\n",
        "    print(err[1])\n",
        "    print(h, \"|||||||\" ,err[0]-true_integral)\n",
        "    \n",
        "    err = midpoint(m_func, 0, 1, h)\n",
        "    print(err[1])\n",
        "    print(h, \"|||||||\" ,err[0]+2 - true_integral)\n",
        "    \n",
        "    \n",
        "    print(\"---------------\")"
      ]
    }
  ],
  "metadata": {
    "kernelspec": {
      "display_name": "Python 3",
      "language": "python",
      "name": "python3"
    },
    "language_info": {
      "codemirror_mode": {
        "name": "ipython",
        "version": 3
      },
      "file_extension": ".py",
      "mimetype": "text/x-python",
      "name": "python",
      "nbconvert_exporter": "python",
      "pygments_lexer": "ipython3",
      "version": "3.5.2"
    },
    "colab": {
      "name": "week_6_calculus_Group8.ipynb",
      "provenance": [],
      "include_colab_link": true
    }
  },
  "nbformat": 4,
  "nbformat_minor": 0
}